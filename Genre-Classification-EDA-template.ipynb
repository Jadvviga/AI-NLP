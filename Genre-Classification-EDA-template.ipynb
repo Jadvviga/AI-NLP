{
 "cells": [
  {
   "cell_type": "code",
   "execution_count": null,
   "id": "5d4cc7a2",
   "metadata": {},
   "outputs": [],
   "source": [
    "# required modules\n",
    "import pandas as pd\n",
    "import seaborn\n",
    "import matplotlib.pyplot as plt\n",
    "import numpy as np\n",
    "\n",
    "# optional modules\n",
    "import nltk\n",
    "import string\n",
    "#nltk.download('punkt') # only required for the first time\n",
    "#nltk.download('averaged_perceptron_tagger') # only required for the first time\n",
    "#nltk.download('stopwords') # only required for the first time"
   ]
  },
  {
   "cell_type": "code",
   "execution_count": null,
   "id": "dbf77a09",
   "metadata": {},
   "outputs": [],
   "source": [
    "nrows = 5000\n",
    "\n",
    "# read train data set\n",
    "df_train = pd.read_csv('Genre Classification Dataset/train_data.txt', sep=':::',\\\n",
    "                       engine='python', header=None, usecols=[1,2,3], nrows=nrows)\n",
    "df_train.rename(columns={1:'title', 2:'genre', 3:'description'}, inplace=True)\n",
    "display(df_train.head())\n",
    "\n",
    "# read test data set\n",
    "df_test = pd.read_csv('Genre Classification Dataset/test_data_solution.txt', sep=':::',\\\n",
    "                       engine='python', header=None, usecols=[1,2,3], nrows=nrows)\n",
    "df_test.rename(columns={1:'title', 2:'genre', 3:'description'}, inplace=True)\n",
    "display(df_test.head())"
   ]
  },
  {
   "cell_type": "code",
   "execution_count": null,
   "id": "bbb55e74",
   "metadata": {
    "scrolled": false
   },
   "outputs": [],
   "source": [
    "# compare genre distribution\n",
    "genres = pd.DataFrame(columns=['train', 'test'], index=df_train['genre'].sort_values().unique())\n",
    "gtrain = df_train['genre'].value_counts().sort_index()\n",
    "gtest = df_test['genre'].value_counts().sort_index()\n",
    "genres['train'] = gtrain\n",
    "genres['test'] = gtest\n",
    "display(genres)\n",
    "\n",
    "# make a histogramm of the genre distribution for the training and test data set\n",
    "\n",
    "\n",
    "# test data in train data?\n",
    "titlesTest = set(df_test['title'])\n",
    "titlesTrain = set(df_train['title'])\n",
    "print('Common titles used in both datasets:')\n",
    "print(titlesTest.intersection(titlesTrain))"
   ]
  },
  {
   "cell_type": "code",
   "execution_count": null,
   "id": "ebf9c134",
   "metadata": {
    "scrolled": false
   },
   "outputs": [],
   "source": [
    "# length of descriptions\n",
    "# make a summary statistic about the length of the descriptions in the test and the training data set\n"
   ]
  },
  {
   "cell_type": "code",
   "execution_count": null,
   "id": "d7f4cc30",
   "metadata": {},
   "outputs": [],
   "source": []
  }
 ],
 "metadata": {
  "kernelspec": {
   "display_name": "Python 3 (ipykernel)",
   "language": "python",
   "name": "python3"
  },
  "language_info": {
   "codemirror_mode": {
    "name": "ipython",
    "version": 3
   },
   "file_extension": ".py",
   "mimetype": "text/x-python",
   "name": "python",
   "nbconvert_exporter": "python",
   "pygments_lexer": "ipython3",
   "version": "3.8.16"
  }
 },
 "nbformat": 4,
 "nbformat_minor": 5
}
